{
 "cells": [
  {
   "cell_type": "code",
   "execution_count": null,
   "metadata": {
    "collapsed": true
   },
   "outputs": [],
   "source": [
    "import pandas as pd"
   ]
  },
  {
   "cell_type": "code",
   "execution_count": null,
   "metadata": {
    "collapsed": true,
    "scrolled": true
   },
   "outputs": [],
   "source": [
    "num=pd.read_csv(\"c:\\\\xbrl\\\\2009q2\\\\num.txt\", sep='\\t', header=0)\n",
    "sub=pd.read_csv(\"c:\\\\xbrl\\\\2009q2\\\\sub.txt\", sep='\\t', header=0)\n",
    "pre=pd.read_csv(\"c:\\\\xbrl\\\\2009q2\\\\pre.txt\", sep='\\t', header=0)\n",
    "tag=pd.read_csv(\"c:\\\\xbrl\\\\2009q2\\\\tag.txt\", sep='\\t', header=0)"
   ]
  },
  {
   "cell_type": "code",
   "execution_count": null,
   "metadata": {},
   "outputs": [],
   "source": [
    "pre[pre.duplicated(['tag','version','adsh'])-pre.duplicated(['tag','version','adsh','stmt'])]"
   ]
  },
  {
   "cell_type": "code",
   "execution_count": null,
   "metadata": {},
   "outputs": [],
   "source": [
    "num[(num.adsh=='0000950123-09-008550')&(num.tag=='AmortizationOfIntangibleAssets')]"
   ]
  },
  {
   "cell_type": "code",
   "execution_count": null,
   "metadata": {
    "scrolled": true
   },
   "outputs": [],
   "source": [
    "pre[(pre.adsh=='0000950123-09-008550')&(pre.tag=='AmortizationOfIntangibleAssets')]"
   ]
  },
  {
   "cell_type": "code",
   "execution_count": null,
   "metadata": {},
   "outputs": [],
   "source": [
    "mrg[(mrg.adsh=='0000950123-09-008550')&(mrg.tag=='AmortizationOfIntangibleAssets')]"
   ]
  },
  {
   "cell_type": "code",
   "execution_count": null,
   "metadata": {
    "collapsed": true
   },
   "outputs": [],
   "source": []
  },
  {
   "cell_type": "code",
   "execution_count": null,
   "metadata": {},
   "outputs": [],
   "source": [
    "pre.info()"
   ]
  },
  {
   "cell_type": "code",
   "execution_count": null,
   "metadata": {},
   "outputs": [],
   "source": [
    "mrg=num.merge(pre, 'left',['adsh','tag','version'])\n",
    "mrg[mrg.duplicated(['line','value','stmt'],keep=False)].info()"
   ]
  },
  {
   "cell_type": "code",
   "execution_count": null,
   "metadata": {},
   "outputs": [],
   "source": [
    "num.info()"
   ]
  },
  {
   "cell_type": "code",
   "execution_count": null,
   "metadata": {},
   "outputs": [],
   "source": [
    "5319-4930"
   ]
  },
  {
   "cell_type": "code",
   "execution_count": null,
   "metadata": {
    "collapsed": true
   },
   "outputs": [],
   "source": []
  }
 ],
 "metadata": {
  "kernelspec": {
   "display_name": "Python 3",
   "language": "python",
   "name": "python3"
  },
  "language_info": {
   "codemirror_mode": {
    "name": "ipython",
    "version": 3
   },
   "file_extension": ".py",
   "mimetype": "text/x-python",
   "name": "python",
   "nbconvert_exporter": "python",
   "pygments_lexer": "ipython3",
   "version": "3.6.3"
  }
 },
 "nbformat": 4,
 "nbformat_minor": 2
}
