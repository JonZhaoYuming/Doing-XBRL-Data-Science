{
 "cells": [
  {
   "cell_type": "code",
   "execution_count": 5,
   "metadata": {},
   "outputs": [],
   "source": [
    "# import numpy and pandas, and DataFrame / Series\n",
    "import numpy as np\n",
    "import pandas as pd\n",
    "from pandas import DataFrame, Series\n",
    "# Set some pandas options\n",
    "pd.set_option('display.notebook_repr_html', False)\n",
    "pd.set_option('display.max_columns', 100)\n",
    "pd.set_option('max_colwidth',256)\n",
    "pd.set_option('display.width', 80)\n",
    "pd.set_option('display.max_rows', 10)"
   ]
  },
  {
   "cell_type": "code",
   "execution_count": 6,
   "metadata": {
    "collapsed": true,
    "scrolled": true
   },
   "outputs": [],
   "source": [
    "num=pd.read_csv(\"c:\\\\xbrl\\\\2009q2\\\\num.txt\", sep='\\t', header=0)\n",
    "sub=pd.read_csv(\"c:\\\\xbrl\\\\2009q2\\\\sub.txt\", sep='\\t', header=0)\n",
    "pre=pd.read_csv(\"c:\\\\xbrl\\\\2009q2\\\\pre.txt\", sep='\\t', header=0)\n",
    "tag=pd.read_csv(\"c:\\\\xbrl\\\\2009q2\\\\tag.txt\", sep='\\t', header=0)"
   ]
  },
  {
   "cell_type": "code",
   "execution_count": 52,
   "metadata": {},
   "outputs": [
    {
     "name": "stdout",
     "output_type": "stream",
     "text": [
      "<class 'pandas.core.frame.DataFrame'>\n",
      "Int64Index: 4930 entries, 0 to 4929\n",
      "Data columns (total 44 columns):\n",
      "adsh          4930 non-null object\n",
      "tag           4930 non-null object\n",
      "version       4930 non-null object\n",
      "coreg         0 non-null float64\n",
      "ddate         4930 non-null int64\n",
      "qtrs          4930 non-null int64\n",
      "uom           4930 non-null object\n",
      "value         4919 non-null float64\n",
      "footnote      8 non-null object\n",
      "cik           4930 non-null int64\n",
      "name          4930 non-null object\n",
      "sic           4930 non-null int64\n",
      "countryba     4930 non-null object\n",
      "stprba        4761 non-null object\n",
      "cityba        4930 non-null object\n",
      "zipba         4930 non-null object\n",
      "bas1          4930 non-null object\n",
      "bas2          1403 non-null object\n",
      "baph          4761 non-null object\n",
      "countryma     4930 non-null object\n",
      "stprma        4761 non-null object\n",
      "cityma        4930 non-null object\n",
      "zipma         4930 non-null object\n",
      "mas1          4930 non-null object\n",
      "mas2          1238 non-null object\n",
      "countryinc    4729 non-null object\n",
      "stprinc       4560 non-null object\n",
      "ein           4930 non-null int64\n",
      "former        2232 non-null object\n",
      "changed       2232 non-null float64\n",
      "afs           4930 non-null object\n",
      "wksi          4930 non-null int64\n",
      "fye           4930 non-null int64\n",
      "form          4930 non-null object\n",
      "period        4930 non-null int64\n",
      "fy            4930 non-null int64\n",
      "fp            4930 non-null object\n",
      "filed         4930 non-null int64\n",
      "accepted      4930 non-null object\n",
      "prevrpt       4930 non-null int64\n",
      "detail        4930 non-null int64\n",
      "instance      4930 non-null object\n",
      "nciks         4930 non-null int64\n",
      "aciks         240 non-null object\n",
      "dtypes: float64(3), int64(13), object(28)\n",
      "memory usage: 1.7+ MB\n",
      "\n",
      "\n",
      "<class 'pandas.core.frame.DataFrame'>\n",
      "Int64Index: 5319 entries, 0 to 5318\n",
      "Data columns (total 51 columns):\n",
      "adsh          5319 non-null object\n",
      "tag           5319 non-null object\n",
      "version       5319 non-null object\n",
      "coreg         0 non-null float64\n",
      "ddate         5319 non-null int64\n",
      "qtrs          5319 non-null int64\n",
      "uom           5319 non-null object\n",
      "value         5308 non-null float64\n",
      "footnote      10 non-null object\n",
      "cik           5319 non-null int64\n",
      "name          5319 non-null object\n",
      "sic           5319 non-null int64\n",
      "countryba     5319 non-null object\n",
      "stprba        5140 non-null object\n",
      "cityba        5319 non-null object\n",
      "zipba         5319 non-null object\n",
      "bas1          5319 non-null object\n",
      "bas2          1471 non-null object\n",
      "baph          5140 non-null object\n",
      "countryma     5319 non-null object\n",
      "stprma        5140 non-null object\n",
      "cityma        5319 non-null object\n",
      "zipma         5319 non-null object\n",
      "mas1          5319 non-null object\n",
      "mas2          1294 non-null object\n",
      "countryinc    5088 non-null object\n",
      "stprinc       4909 non-null object\n",
      "ein           5319 non-null int64\n",
      "former        2390 non-null object\n",
      "changed       2390 non-null float64\n",
      "afs           5319 non-null object\n",
      "wksi          5319 non-null int64\n",
      "fye           5319 non-null int64\n",
      "form          5319 non-null object\n",
      "period        5319 non-null int64\n",
      "fy            5319 non-null int64\n",
      "fp            5319 non-null object\n",
      "filed         5319 non-null int64\n",
      "accepted      5319 non-null object\n",
      "prevrpt       5319 non-null int64\n",
      "detail        5319 non-null int64\n",
      "instance      5319 non-null object\n",
      "nciks         5319 non-null int64\n",
      "aciks         266 non-null object\n",
      "report        4737 non-null float64\n",
      "line          4737 non-null float64\n",
      "stmt          4737 non-null object\n",
      "inpth         4737 non-null float64\n",
      "rfile         4737 non-null object\n",
      "plabel        4737 non-null object\n",
      "negating      4737 non-null float64\n",
      "dtypes: float64(7), int64(13), object(31)\n",
      "memory usage: 2.1+ MB\n"
     ]
    }
   ],
   "source": [
    "num_sub=num.merge(sub,'left','adsh')\n",
    "num_sub_pre=num_sub.merge(pre,'left',['adsh','tag','version'])\n",
    "num_sub.info()\n",
    "print('\\n')\n",
    "num_sub_pre.info()\n"
   ]
  },
  {
   "cell_type": "code",
   "execution_count": 47,
   "metadata": {
    "collapsed": true
   },
   "outputs": [],
   "source": [
    "num_dup=num[num.duplicated(['adsh','tag','version'],keep=False)][['adsh','tag','version','ddate','value']]"
   ]
  },
  {
   "cell_type": "code",
   "execution_count": 48,
   "metadata": {},
   "outputs": [],
   "source": [
    "pre_dup=pre[pre.duplicated(['adsh','tag','version'],keep=False)][['adsh','tag','version','stmt','line']]"
   ]
  },
  {
   "cell_type": "code",
   "execution_count": 49,
   "metadata": {
    "collapsed": true
   },
   "outputs": [],
   "source": [
    "dup=num_dup.merge(pre_dup,'inner',['adsh','tag','version'])"
   ]
  },
  {
   "cell_type": "code",
   "execution_count": 42,
   "metadata": {},
   "outputs": [
    {
     "name": "stdout",
     "output_type": "stream",
     "text": [
      "<class 'pandas.core.frame.DataFrame'>\n",
      "Int64Index: 636 entries, 0 to 635\n",
      "Data columns (total 6 columns):\n",
      "adsh       636 non-null object\n",
      "tag        636 non-null object\n",
      "version    636 non-null object\n",
      "value      636 non-null float64\n",
      "stmt       636 non-null object\n",
      "line       636 non-null int64\n",
      "dtypes: float64(1), int64(1), object(4)\n",
      "memory usage: 34.8+ KB\n"
     ]
    }
   ],
   "source": [
    "dup.info()"
   ]
  },
  {
   "cell_type": "code",
   "execution_count": 36,
   "metadata": {
    "collapsed": true
   },
   "outputs": [],
   "source": [
    "pd.set_option('display.max_rows', 650)\n",
    "pd.set_option('display.width', 256)"
   ]
  },
  {
   "cell_type": "code",
   "execution_count": 50,
   "metadata": {},
   "outputs": [],
   "source": [
    "dup.to_csv('dup.txt',sep='\\t',header=0,index=False)"
   ]
  },
  {
   "cell_type": "code",
   "execution_count": 16,
   "metadata": {},
   "outputs": [
    {
     "name": "stdout",
     "output_type": "stream",
     "text": [
      "                    adsh      cik                                name   sic countryba stprba\n",
      "0   0000038074-09-000029    38074             FOREST LABORATORIES INC  2834        US     NY\n",
      "1   0000092380-09-000018    92380               SOUTHWEST AIRLINES CO  4512        US     TX\n",
      "2   0000277948-09-000066   277948                            CSX CORP  4011        US     FL\n",
      "3   0000796343-09-000026   796343                   ADOBE SYSTEMS INC  7372        US     CA\n",
      "4   0000831259-09-000047   831259  FREEPORT MCMORAN COPPER & GOLD INC  1000        US     AZ\n",
      "5   0000891618-09-000150  1164727            NEWMONT MINING CORP /DE/  1040        US     CO\n",
      "6   0000891618-09-000166    93410                        CHEVRON CORP  2911        US     CA\n",
      "7   0000950123-09-008550    13610                      BOWNE & CO INC  2750        US     NY\n",
      "8   0000950134-09-009913  1349436                SANDRIDGE ENERGY INC  1311        US     OK\n",
      "9   0001002638-09-000023  1002638                      OPEN TEXT CORP  7373        CA     ON\n",
      "10  0001031296-09-000011  1031296                    FIRSTENERGY CORP  4911        US     OH\n",
      "11  0001104659-09-025790   883984                  ICU MEDICAL INC/DE  3841        US     CA\n",
      "12  0001104659-09-029605   901491        PAPA JOHNS INTERNATIONAL INC  5812        US     KY\n",
      "13  0001104659-09-031513  1124198                          FLUOR CORP  1600        US     TX\n",
      "14  0001193125-09-088631  1335793                        CNX GAS CORP  1311        US     PA\n",
      "15  0001193125-09-088639  1070412                   CONSOL ENERGY INC  1221        US     PA\n",
      "16  0001193125-09-091929   884905                         PRAXAIR INC  2810        US     CT\n",
      "17  0001193125-09-094508   108772                          XEROX CORP  3577        US     CT\n",
      "18  0001193125-09-096522  1365135                    WESTERN UNION CO  7389        US     CO\n",
      "19  0001193125-09-100014  1316631                LIBERTY GLOBAL, INC.  4841        US     CO\n",
      "20  0001193125-09-101273    86144                         SAFEWAY INC  5411        US     CA\n",
      "21  0001193125-09-101639    29669              RR DONNELLEY & SONS CO  2750        US     IL\n",
      "22  0001193125-09-102866   818686  TEVA PHARMACEUTICAL INDUSTRIES LTD  2834        IL    NaN\n",
      "23  0001193125-09-109617  1368007                       NYSE EURONEXT  6200        US     NY\n",
      "24  0001193125-09-111401  1080224                    EDGAR ONLINE INC  7389        US     CT\n",
      "25  0001193125-09-124260   769397                        AUTODESK INC  7372        US     CA\n"
     ]
    }
   ],
   "source": [
    "print(sub.iloc[:, :6].to_string())"
   ]
  },
  {
   "cell_type": "code",
   "execution_count": 3,
   "metadata": {},
   "outputs": [
    {
     "name": "stdout",
     "output_type": "stream",
     "text": [
      "<class 'pandas.core.frame.DataFrame'>\n",
      "RangeIndex: 4930 entries, 0 to 4929\n",
      "Data columns (total 9 columns):\n",
      "adsh        4930 non-null object\n",
      "tag         4930 non-null object\n",
      "version     4930 non-null object\n",
      "coreg       0 non-null float64\n",
      "ddate       4930 non-null int64\n",
      "qtrs        4930 non-null int64\n",
      "uom         4930 non-null object\n",
      "value       4919 non-null float64\n",
      "footnote    8 non-null object\n",
      "dtypes: float64(2), int64(2), object(5)\n",
      "memory usage: 346.7+ KB\n",
      "\n",
      "\n",
      "<class 'pandas.core.frame.DataFrame'>\n",
      "RangeIndex: 26 entries, 0 to 25\n",
      "Data columns (total 36 columns):\n",
      "adsh          26 non-null object\n",
      "cik           26 non-null int64\n",
      "name          26 non-null object\n",
      "sic           26 non-null int64\n",
      "countryba     26 non-null object\n",
      "stprba        25 non-null object\n",
      "cityba        26 non-null object\n",
      "zipba         26 non-null object\n",
      "bas1          26 non-null object\n",
      "bas2          8 non-null object\n",
      "baph          25 non-null object\n",
      "countryma     26 non-null object\n",
      "stprma        25 non-null object\n",
      "cityma        26 non-null object\n",
      "zipma         26 non-null object\n",
      "mas1          26 non-null object\n",
      "mas2          7 non-null object\n",
      "countryinc    25 non-null object\n",
      "stprinc       24 non-null object\n",
      "ein           26 non-null int64\n",
      "former        12 non-null object\n",
      "changed       12 non-null float64\n",
      "afs           26 non-null object\n",
      "wksi          26 non-null int64\n",
      "fye           26 non-null int64\n",
      "form          26 non-null object\n",
      "period        26 non-null int64\n",
      "fy            26 non-null int64\n",
      "fp            26 non-null object\n",
      "filed         26 non-null int64\n",
      "accepted      26 non-null object\n",
      "prevrpt       26 non-null int64\n",
      "detail        26 non-null int64\n",
      "instance      26 non-null object\n",
      "nciks         26 non-null int64\n",
      "aciks         1 non-null object\n",
      "dtypes: float64(1), int64(11), object(24)\n",
      "memory usage: 7.4+ KB\n",
      "\n",
      "\n",
      "<class 'pandas.core.frame.DataFrame'>\n",
      "RangeIndex: 3178 entries, 0 to 3177\n",
      "Data columns (total 10 columns):\n",
      "adsh        3178 non-null object\n",
      "report      3178 non-null int64\n",
      "line        3178 non-null int64\n",
      "stmt        3178 non-null object\n",
      "inpth       3178 non-null int64\n",
      "rfile       3178 non-null object\n",
      "tag         3178 non-null object\n",
      "version     3178 non-null object\n",
      "plabel      3178 non-null object\n",
      "negating    3178 non-null int64\n",
      "dtypes: int64(4), object(6)\n",
      "memory usage: 248.4+ KB\n",
      "\n",
      "\n",
      "<class 'pandas.core.frame.DataFrame'>\n",
      "RangeIndex: 919 entries, 0 to 918\n",
      "Data columns (total 9 columns):\n",
      "tag         919 non-null object\n",
      "version     919 non-null object\n",
      "custom      919 non-null int64\n",
      "abstract    919 non-null int64\n",
      "datatype    752 non-null object\n",
      "iord        739 non-null object\n",
      "crdr        592 non-null object\n",
      "tlabel      919 non-null object\n",
      "doc         789 non-null object\n",
      "dtypes: int64(2), object(7)\n",
      "memory usage: 64.7+ KB\n"
     ]
    }
   ],
   "source": [
    "pd.set_option('display.max_rows', 100)\n",
    "num.info()\n",
    "print('\\n')\n",
    "sub.info()\n",
    "print('\\n')\n",
    "pre.info()\n",
    "print('\\n')\n",
    "tag.info()"
   ]
  },
  {
   "cell_type": "code",
   "execution_count": null,
   "metadata": {
    "collapsed": true
   },
   "outputs": [],
   "source": [
    "pre[pre.duplicated(['tag','version','adsh'])-pre.duplicated(['tag','version','adsh','stmt'])]"
   ]
  },
  {
   "cell_type": "code",
   "execution_count": null,
   "metadata": {
    "collapsed": true
   },
   "outputs": [],
   "source": [
    "num[(num.adsh=='0000950123-09-008550')&(num.tag=='AmortizationOfIntangibleAssets')]"
   ]
  },
  {
   "cell_type": "code",
   "execution_count": null,
   "metadata": {
    "collapsed": true,
    "scrolled": true
   },
   "outputs": [],
   "source": [
    "pre[(pre.adsh=='0000950123-09-008550')&(pre.tag=='AmortizationOfIntangibleAssets')]"
   ]
  },
  {
   "cell_type": "code",
   "execution_count": null,
   "metadata": {
    "collapsed": true
   },
   "outputs": [],
   "source": [
    "mrg[(mrg.adsh=='0000950123-09-008550')&(mrg.tag=='AmortizationOfIntangibleAssets')]"
   ]
  },
  {
   "cell_type": "code",
   "execution_count": null,
   "metadata": {
    "collapsed": true
   },
   "outputs": [],
   "source": [
    "mrg=num.merge(pre, 'left',['adsh','tag','version'])\n",
    "mrg[mrg.duplicated(['line','value','stmt'],keep=False)].info()"
   ]
  },
  {
   "cell_type": "code",
   "execution_count": null,
   "metadata": {
    "collapsed": true
   },
   "outputs": [],
   "source": [
    "5319-4930"
   ]
  },
  {
   "cell_type": "code",
   "execution_count": null,
   "metadata": {
    "collapsed": true
   },
   "outputs": [],
   "source": []
  }
 ],
 "metadata": {
  "kernelspec": {
   "display_name": "Python 3",
   "language": "python",
   "name": "python3"
  },
  "language_info": {
   "codemirror_mode": {
    "name": "ipython",
    "version": 3
   },
   "file_extension": ".py",
   "mimetype": "text/x-python",
   "name": "python",
   "nbconvert_exporter": "python",
   "pygments_lexer": "ipython3",
   "version": "3.6.3"
  }
 },
 "nbformat": 4,
 "nbformat_minor": 2
}
